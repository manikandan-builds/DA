{
 "cells": [
  {
   "cell_type": "code",
   "execution_count": 2,
   "metadata": {},
   "outputs": [],
   "source": [
    "   \n",
    "import pandas as pd \n",
    "# from sklearn.tree import DecisionTreeClassifier, plot_tree \n",
    "import matplotlib.pyplot as plt \n",
    "import math"
   ]
  },
  {
   "cell_type": "code",
   "execution_count": 3,
   "metadata": {},
   "outputs": [
    {
     "data": {
      "text/html": [
       "<div>\n",
       "<style scoped>\n",
       "    .dataframe tbody tr th:only-of-type {\n",
       "        vertical-align: middle;\n",
       "    }\n",
       "\n",
       "    .dataframe tbody tr th {\n",
       "        vertical-align: top;\n",
       "    }\n",
       "\n",
       "    .dataframe thead th {\n",
       "        text-align: right;\n",
       "    }\n",
       "</style>\n",
       "<table border=\"1\" class=\"dataframe\">\n",
       "  <thead>\n",
       "    <tr style=\"text-align: right;\">\n",
       "      <th></th>\n",
       "      <th>Pregnancies</th>\n",
       "      <th>Glucose</th>\n",
       "      <th>BloodPressure</th>\n",
       "      <th>SkinThickness</th>\n",
       "      <th>Insulin</th>\n",
       "      <th>BMI</th>\n",
       "      <th>DiabetesPedigreeFunction</th>\n",
       "      <th>Age</th>\n",
       "      <th>Outcome</th>\n",
       "    </tr>\n",
       "  </thead>\n",
       "  <tbody>\n",
       "    <tr>\n",
       "      <th>0</th>\n",
       "      <td>6</td>\n",
       "      <td>148</td>\n",
       "      <td>72</td>\n",
       "      <td>35</td>\n",
       "      <td>0</td>\n",
       "      <td>33.6</td>\n",
       "      <td>0.627</td>\n",
       "      <td>50</td>\n",
       "      <td>1</td>\n",
       "    </tr>\n",
       "    <tr>\n",
       "      <th>1</th>\n",
       "      <td>1</td>\n",
       "      <td>85</td>\n",
       "      <td>66</td>\n",
       "      <td>29</td>\n",
       "      <td>0</td>\n",
       "      <td>26.6</td>\n",
       "      <td>0.351</td>\n",
       "      <td>31</td>\n",
       "      <td>0</td>\n",
       "    </tr>\n",
       "    <tr>\n",
       "      <th>2</th>\n",
       "      <td>8</td>\n",
       "      <td>183</td>\n",
       "      <td>64</td>\n",
       "      <td>0</td>\n",
       "      <td>0</td>\n",
       "      <td>23.3</td>\n",
       "      <td>0.672</td>\n",
       "      <td>32</td>\n",
       "      <td>1</td>\n",
       "    </tr>\n",
       "    <tr>\n",
       "      <th>3</th>\n",
       "      <td>1</td>\n",
       "      <td>89</td>\n",
       "      <td>66</td>\n",
       "      <td>23</td>\n",
       "      <td>94</td>\n",
       "      <td>28.1</td>\n",
       "      <td>0.167</td>\n",
       "      <td>21</td>\n",
       "      <td>0</td>\n",
       "    </tr>\n",
       "    <tr>\n",
       "      <th>4</th>\n",
       "      <td>0</td>\n",
       "      <td>137</td>\n",
       "      <td>40</td>\n",
       "      <td>35</td>\n",
       "      <td>168</td>\n",
       "      <td>43.1</td>\n",
       "      <td>2.288</td>\n",
       "      <td>33</td>\n",
       "      <td>1</td>\n",
       "    </tr>\n",
       "  </tbody>\n",
       "</table>\n",
       "</div>"
      ],
      "text/plain": [
       "   Pregnancies  Glucose  BloodPressure  SkinThickness  Insulin   BMI  \\\n",
       "0            6      148             72             35        0  33.6   \n",
       "1            1       85             66             29        0  26.6   \n",
       "2            8      183             64              0        0  23.3   \n",
       "3            1       89             66             23       94  28.1   \n",
       "4            0      137             40             35      168  43.1   \n",
       "\n",
       "   DiabetesPedigreeFunction  Age  Outcome  \n",
       "0                     0.627   50        1  \n",
       "1                     0.351   31        0  \n",
       "2                     0.672   32        1  \n",
       "3                     0.167   21        0  \n",
       "4                     2.288   33        1  "
      ]
     },
     "execution_count": 3,
     "metadata": {},
     "output_type": "execute_result"
    }
   ],
   "source": [
    "df = pd.read_csv(r'C:\\Users\\Selva Karthik\\Downloads\\diabetes_1710838956131.csv') \n",
    "df.head()"
   ]
  },
  {
   "cell_type": "code",
   "execution_count": 4,
   "metadata": {},
   "outputs": [
    {
     "name": "stdout",
     "output_type": "stream",
     "text": [
      "Entropy of the dataset: 0.9331343166407831\n"
     ]
    }
   ],
   "source": [
    "def calculate_entropy(data, target_column): \n",
    "\ttotal_rows = len(data) \n",
    "\ttarget_values = data[target_column].unique() \n",
    "\t\n",
    "\n",
    "\tentropy = 0\n",
    "\tfor value in target_values: \n",
    "\t\t# Calculate the proportion of instances with the current value \n",
    "\t\tvalue_count = len(data[data[target_column] == value]) \n",
    "\t\tproportion = value_count / total_rows \n",
    "\t\tentropy -= proportion * math.log2(proportion) \n",
    "\n",
    "\treturn entropy \n",
    "\n",
    "entropy_outcome = calculate_entropy(df, 'Outcome') \n",
    "print(f\"Entropy of the dataset: {entropy_outcome}\")\n"
   ]
  },
  {
   "cell_type": "code",
   "execution_count": 5,
   "metadata": {},
   "outputs": [],
   "source": [
    "def calculate_information_gain(data, feature, target_column): \n",
    "  \n",
    "    # Calculate weighted average entropy for the feature \n",
    "    unique_values = data[feature].unique() \n",
    "    weighted_entropy = 0\n",
    "  \n",
    "    for value in unique_values: \n",
    "        subset = data[data[feature] == value] \n",
    "        proportion = len(subset) / len(data) \n",
    "        weighted_entropy += proportion * calculate_entropy(subset, target_column) \n",
    "  \n",
    "    # Calculate information gain \n",
    "    information_gain = entropy_outcome - weighted_entropy \n",
    "  \n",
    "    return information_gain"
   ]
  },
  {
   "cell_type": "code",
   "execution_count": 6,
   "metadata": {},
   "outputs": [
    {
     "name": "stdout",
     "output_type": "stream",
     "text": [
      "Pregnancies - Entropy: 3.482, Information Gain: 0.062\n",
      "Glucose - Entropy: 6.751, Information Gain: 0.304\n",
      "BloodPressure - Entropy: 4.792, Information Gain: 0.059\n",
      "SkinThickness - Entropy: 4.586, Information Gain: 0.082\n",
      "Insulin - Entropy: 4.682, Information Gain: 0.277\n",
      "BMI - Entropy: 7.594, Information Gain: 0.344\n",
      "DiabetesPedigreeFunction - Entropy: 8.829, Information Gain: 0.651\n",
      "Age - Entropy: 5.029, Information Gain: 0.141\n"
     ]
    }
   ],
   "source": [
    "for column in df.columns[:-1]: \n",
    "\tentropy = calculate_entropy(df, column) \n",
    "\tinformation_gain = calculate_information_gain(df, column, 'Outcome') \n",
    "\tprint(f\"{column} - Entropy: {entropy:.3f}, Information Gain: {information_gain:.3f}\")\n"
   ]
  },
  {
   "cell_type": "code",
   "execution_count": 11,
   "metadata": {},
   "outputs": [
    {
     "name": "stdout",
     "output_type": "stream",
     "text": [
      "['Pregnancies', 'Glucose', 'BloodPressure', 'SkinThickness', 'Insulin', 'BMI', 'DiabetesPedigreeFunction', 'Age']\n",
      "{'DiabetesPedigreeFunction': {0.627: 1, 0.351: 0, 0.672: 1, 0.167: 0, 2.288: 1, 0.201: 0, 0.248: {'Pregnancies': {3: 1, 1: 0}}, 0.134: 0, 0.158: {'Glucose': {197: 1, 108: 0}}, 0.232: 1, 0.191: 0, 0.537: 1, 1.441: 0, 0.398: 1, 0.587: {'Glucose': {166: 1, 44: 0, 91: 0}}, 0.484: 1, 0.551: {'Pregnancies': {0: 1, 3: 0, 8: 0, 1: 0}}, 0.254: {'Glucose': {107: 1, 143: 1, 187: 1, 122: 0, 161: 0, 124: 1}}, 0.183: {'Pregnancies': {1: 0, 8: 1}}, 0.529: 1, 0.704: 0, 0.388: 0, 0.451: 1, 0.263: {'Pregnancies': {9: 1, 5: 0, 10: 0, 0: 0}}, 0.205: {'Pregnancies': {10: 1, 1: 0, 0: 1}}, 0.257: {'Pregnancies': {7: 1, 2: 0, 13: 1}}, 0.487: 0, 0.245: {'Pregnancies': {13: 0, 10: 0, 6: 1, 5: 0}}, 0.337: {'Pregnancies': {5: 0, 7: 1, 2: 1}}, 0.546: 0, 0.851: 1, 0.267: 0, 0.188: 0, 0.512: 0, 0.966: 0, 0.42: 0, 0.665: 1, 0.503: 1, 1.39: 1, 0.271: 0, 0.696: 0, 0.235: {'Pregnancies': {7: 0, 2: 0, 4: 1}}, 0.721: 1, 0.294: 0, 1.893: 1, 0.564: 0, 0.586: {'Pregnancies': {2: 0, 7: 1}}, 0.344: 1, 0.305: 0, 0.491: 0, 0.526: 0, 0.342: 0, 0.467: 1, 0.718: 0, 0.962: {'Pregnancies': {0: 0, 1: 1}}, 1.781: 0, 0.173: 0, 0.304: 0, 0.27: {'Glucose': {133: 1, 131: 1, 78: 0, 152: 0}}, 0.699: 0, 0.258: {'Pregnancies': {7: 1, 1: 0, 10: 0, 3: 1, 5: 0, 0: 1}}, 0.203: {'Pregnancies': {5: 0, 0: 1}}, 0.855: 1, 0.845: 0, 0.334: {'Pregnancies': {1: 0, 0: 1}}, 0.189: 0, 0.867: 1, 0.411: 0, 0.583: {'Pregnancies': {13: 1, 1: 0, 5: 1}}, 0.231: 0, 0.396: 0, 0.14: 0, 0.391: 0, 0.37: 0, 0.307: 0, 0.102: 0, 0.767: 0, 0.237: 0, 0.227: 1, 0.698: 0, 0.178: {'Pregnancies': {13: 0, 6: 1}}, 0.324: 0, 0.153: {'Pregnancies': {15: 1, 5: 0}}, 0.165: {'Pregnancies': {1: 0, 7: 1, 8: 1}}, 0.443: {'Pregnancies': {4: 0, 8: 1}}, 0.261: {'Pregnancies': {7: 0, 1: 0, 5: 1, 10: 1}}, 0.277: 1, 0.761: {'Pregnancies': {2: 0, 3: 1}}, 0.255: 0, 0.13: 0, 0.323: {'Pregnancies': {1: 0, 3: 1}}, 0.356: {'Pregnancies': {6: 0, 3: 1}}, 0.325: 1, 1.222: 1, 0.179: 0, 0.262: 0, 0.283: 0, 0.93: 0, 0.801: 0, 0.207: 0, 0.287: 0, 0.336: 0, 0.247: {'Pregnancies': {0: 1, 6: 0}}, 0.199: 1, 0.543: 1, 0.192: 0, 0.588: 1, 0.539: 1, 0.22: 1, 0.654: 0, 0.223: 0, 0.759: 1, 0.26: {'Pregnancies': {6: 0, 9: 1, 1: 0, 11: 1}}, 0.404: 0, 0.186: 0, 0.278: 1, 0.496: {'Glucose': {88: 1, 102: 0, 116: 0}}, 0.452: {'Pregnancies': {3: 0, 5: 1, 0: 0}}, 0.403: 1, 0.741: 1, 0.361: 1, 1.114: 1, 0.457: 0, 0.647: 0, 0.088: {'Pregnancies': {2: 0, 1: 1}}, 0.597: 0, 0.532: 0, 0.703: 0, 0.159: 0, 0.268: {'Glucose': {128: 0, 73: 0, 163: 1, 130: 0, 169: 1}}, 0.286: {'Glucose': {106: 0, 136: 1}}, 0.318: 0, 0.272: 1, 0.572: 0, 0.096: 0, 1.4: 0, 0.218: 0, 0.085: 0, 0.399: 0, 0.432: 0, 1.189: 1, 0.687: {'Pregnancies': {1: 0, 7: 0, 8: 1}}, 0.137: {'Pregnancies': {8: 1, 12: 0}}, 0.637: {'Pregnancies': {2: 0, 9: 1}}, 0.833: 0, 0.229: 0, 0.817: 1, 0.204: 0, 0.368: {'Pregnancies': {2: 0, 6: 1}}, 0.743: 1, 0.722: 1, 0.256: 0, 0.709: 0, 0.471: 0, 0.495: 0, 0.18: {'Pregnancies': {6: 1, 13: 0}}, 0.542: 1, 0.773: 0, 0.678: {'Pregnancies': {1: 0, 3: 1}}, 0.719: 1, 0.382: 0, 0.319: 1, 0.19: 0, 0.956: 1, 0.084: 0, 0.725: 0, 0.299: 0, 0.244: 0, 0.745: 1, 0.615: 1, 1.321: 1, 0.64: {'Pregnancies': {8: 1, 5: 0}}, 0.142: 0, 0.374: 0, 0.383: 1, 0.578: 1, 0.136: 0, 0.395: 1, 0.187: 0, 0.905: 1, 0.15: {'Pregnancies': {4: 1, 3: 0}}, 0.874: 0, 0.236: 0, 0.787: {'Pregnancies': {0: 0, 7: 1}}, 0.407: 0, 0.605: {'Pregnancies': {8: 1, 0: 0}}, 0.151: {'Pregnancies': {5: 1, 6: 0, 3: 0}}, 0.289: 0, 0.355: 1, 0.29: 0, 0.375: 0, 0.164: 0, 0.431: 1, 0.742: 1, 0.514: {'Pregnancies': {5: 1, 1: 0}}, 0.464: 0, 1.224: 1, 1.072: 1, 0.805: 1, 0.209: {'Pregnancies': {7: 0, 5: 1}}, 0.666: 0, 0.101: 0, 0.198: 0, 0.652: 1, 2.329: 0, 0.089: 0, 0.645: 1, 0.238: {'Pregnancies': {6: 1, 0: 0, 4: 1, 3: 0}}, 0.394: 0, 0.293: {'Pregnancies': {3: 0, 1: 1}}, 0.479: 1, 0.686: {'Glucose': {179: 1, 107: 0}}, 0.831: 1, 0.582: 0, 0.446: 0, 0.402: 1, 1.318: 1, 0.329: 0, 1.213: 1, 0.427: 0, 0.282: {'Pregnancies': {9: 0, 1: 1}}, 0.143: 0, 0.38: {'Pregnancies': {9: 0, 4: 1}}, 0.284: 0, 0.249: 0, 0.926: 1, 0.557: {'Pregnancies': {3: 0, 11: 1}}, 0.092: 0, 0.655: 0, 1.353: 1, 0.612: 0, 0.2: 0, 0.226: 1, 0.997: 0, 0.933: 1, 1.101: 0, 0.078: 0, 0.24: 1, 1.136: 1, 0.128: {'Pregnancies': {2: 0, 7: 1}}, 0.422: {'Pregnancies': {1: 0, 2: 1}}, 0.251: 0, 0.677: 0, 0.296: 1, 0.454: 0, 0.744: 0, 0.881: 0, 0.28: 0, 0.259: {'Pregnancies': {2: 1, 0: 0, 12: 0, 8: 1}}, 0.619: 0, 0.808: 1, 0.34: {'Pregnancies': {4: 0, 5: 1, 2: 0}}, 0.434: 0, 0.757: 1, 0.613: 1, 0.692: {'Glucose': {151: 0, 122: 1, 130: 0, 150: 1}}, 0.52: {'Pregnancies': {0: 0, 4: 1, 2: 0}}, 0.412: {'Pregnancies': {14: 1, 1: 0}}, 0.84: 0, 0.839: {'Pregnancies': {0: 1, 6: 0}}, 0.156: 0, 0.215: 0, 0.326: {'Pregnancies': {10: 1, 2: 0}}, 1.391: 1, 0.875: 1, 0.313: 0, 0.433: {'Pregnancies': {2: 1, 0: 0}}, 0.626: 0, 1.127: 1, 0.315: 0, 0.345: 1, 0.129: 1, 0.527: 0, 0.197: {'Pregnancies': {3: 1, 0: 0, 1: 0}}, 0.731: 1, 0.148: {'Pregnancies': {2: 0, 4: 0, 9: 1}}, 0.123: 0, 0.127: 1, 0.122: 0, 1.476: 0, 0.166: 0, 0.932: 0, 0.343: {'Pregnancies': {5: 1, 2: 0}}, 0.893: 1, 0.331: 1, 0.472: 0, 0.673: 0, 0.389: 0, 0.485: 0, 0.349: {'Pregnancies': {8: 0, 1: 1}}, 0.279: 0, 0.346: 1, 0.252: 0, 0.243: 0, 0.58: 0, 0.559: 0, 0.302: 1, 0.569: 1, 0.378: {'Pregnancies': {12: 0, 5: 1}}, 0.385: 0, 0.499: 0, 0.306: 0, 0.234: {'Glucose': {133: 1, 91: 0}}, 2.137: 1, 1.731: 0, 0.545: 0, 0.225: 0, 0.816: 0, 0.528: {'Pregnancies': {12: 1, 1: 0}}, 0.509: 0, 1.021: 0, 0.821: 0, 0.947: 0, 1.268: 0, 0.221: 0, 0.66: {'Pregnancies': {5: 1, 0: 0}}, 0.239: 1, 0.949: 0, 0.444: 0, 0.463: 0, 0.803: 1, 1.6: 0, 0.944: 0, 0.196: 1, 0.241: 1, 0.161: {'Pregnancies': {4: 1, 7: 0}}, 0.135: 1, 0.376: 1, 1.191: 1, 0.702: 1, 0.674: {'Pregnancies': {6: 0, 2: 1}}, 1.076: 0, 0.534: 1, 1.095: 0, 0.554: 1, 0.624: 0, 0.219: {'Pregnancies': {3: 1, 1: 0}}, 0.507: 0, 0.561: 0, 0.421: 0, 0.516: 1, 0.264: 1, 0.328: 1, 0.233: {'Pregnancies': {1: 1, 0: 0}}, 0.108: 0, 1.138: 0, 0.147: 0, 0.727: {'Glucose': {107: 0, 0: 1}}, 0.435: 1, 0.497: 0, 0.23: {'Pregnancies': {4: 0, 9: 1}}, 0.955: 1, 2.42: 1, 0.658: 0, 0.33: 0, 0.51: 1, 0.285: 0, 0.415: 0, 0.381: 0, 0.832: 0, 0.498: 0, 0.212: 1, 0.364: {'Pregnancies': {5: 0, 0: 1}}, 1.001: 1, 0.46: 0, 0.733: 0, 0.416: 0, 0.705: 0, 1.022: 0, 0.269: 0, 0.6: 0, 0.571: 0, 0.607: 0, 0.17: 0, 0.21: 0, 0.126: 0, 0.711: 1, 0.466: 0, 0.162: 0, 0.419: 0, 0.63: 1, 0.365: {'Pregnancies': {0: 1, 1: 0}}, 0.536: {'Pregnancies': {1: 0, 4: 1}}, 1.159: 0, 0.629: 0, 0.292: 0, 0.145: 0, 1.144: 1, 0.174: 0, 0.547: 0, 0.163: 1, 0.738: 0, 0.314: {'Pregnancies': {0: 1, 3: 0}}, 0.968: {'Pregnancies': {2: 0, 3: 1}}, 0.409: 0, 0.297: 1, 0.525: 0, 0.154: 0, 0.771: 1, 0.107: 0, 0.493: 0, 0.717: 0, 0.917: 0, 0.501: 0, 1.251: 0, 0.735: 0, 0.804: 0, 0.661: 1, 0.549: 1, 0.825: 1, 0.423: 1, 1.034: 1, 0.16: 0, 0.341: 0, 0.68: 0, 0.591: 0, 0.3: 0, 0.121: {'Pregnancies': {6: 1, 3: 0}}, 0.502: 1, 0.401: 0, 0.601: 0, 0.748: 0, 0.338: 0, 0.43: 0, 0.892: 0, 0.813: 0, 0.693: 1, 0.575: 1, 0.371: 1, 0.206: 0, 0.417: 0, 1.154: 1, 0.925: 1, 0.175: 0, 1.699: 0, 0.682: 1, 0.194: 0, 0.4: 0, 0.1: 0, 1.258: 1, 0.482: 0, 0.138: 0, 0.593: 1, 0.878: 0, 0.157: 0, 1.282: 1, 0.141: {'Pregnancies': {0: 1, 10: 1, 2: 0}}, 0.246: 0, 1.698: 0, 1.461: 0, 0.347: 0, 0.362: 0, 0.393: 0, 0.144: 0, 0.732: 1, 0.115: 0, 0.465: 1, 0.649: 0, 0.871: 1, 0.149: 0, 0.695: 0, 0.303: 0, 0.61: 0, 0.73: 0, 0.447: 1, 0.455: {'Pregnancies': {0: 1, 2: 0}}, 0.133: 0, 0.155: 0, 1.162: 0, 1.292: 1, 0.182: 0, 1.394: 1, 0.217: 0, 0.631: 0, 0.88: 0, 0.614: 0, 0.332: 0, 0.366: 0, 0.181: 0, 0.828: 0, 0.335: 1, 0.856: 0, 0.886: 0, 0.439: {'Pregnancies': {7: 1, 5: 0}}, 0.253: 0, 0.598: 0, 0.904: 0, 0.483: 0, 0.565: 1, 0.118: 0, 0.177: 0, 0.176: 0, 0.295: 0, 0.441: 1, 0.352: 0, 0.826: 1, 0.97: 1, 0.595: 0, 0.317: 0, 0.265: 0, 0.646: 1, 0.426: 0, 0.56: 0, 0.515: 0, 0.453: 0, 0.785: 1, 0.734: 1, 1.174: 0, 0.488: 0, 0.358: 1, 1.096: 0, 0.408: 1, 1.182: 1, 0.222: 1, 1.057: 1, 0.766: 0, 0.171: 0}}\n"
     ]
    }
   ],
   "source": [
    "def id3(data, target_column, features): \n",
    "\tif len(data[target_column].unique()) == 1: \n",
    "\t\treturn data[target_column].iloc[0] \n",
    "\n",
    "\n",
    "\tif len(features) == 0: \n",
    "\t\treturn data[target_column].mode().iloc[0] \n",
    "\n",
    "\tbest_feature = max(features, key=lambda x: calculate_information_gain(data, x, target_column)) \n",
    "\n",
    "\ttree = {best_feature: {}} \n",
    "\n",
    "\tfeatures = [f for f in features if f != best_feature] \n",
    "\n",
    "\tfor value in data[best_feature].unique(): \n",
    "\t\tsubset = data[data[best_feature] == value] \n",
    "\t\ttree[best_feature][value] = id3(subset, target_column, features) \n",
    "\n",
    "\treturn tree \n",
    "# Assume the target column is named 'Outcome'\n",
    "target_column = 'Outcome'\n",
    "\n",
    "# Get a list of all column names except the target column\n",
    "features = [col for col in df.columns if col != target_column]\n",
    "print(features)\n",
    "\n",
    "# Call the id3 function\n",
    "decision_tree = id3(df, target_column, features)\n",
    "print(decision_tree)\n"
   ]
  },
  {
   "cell_type": "code",
   "execution_count": null,
   "metadata": {},
   "outputs": [],
   "source": []
  }
 ],
 "metadata": {
  "kernelspec": {
   "display_name": "Python 3",
   "language": "python",
   "name": "python3"
  },
  "language_info": {
   "codemirror_mode": {
    "name": "ipython",
    "version": 3
   },
   "file_extension": ".py",
   "mimetype": "text/x-python",
   "name": "python",
   "nbconvert_exporter": "python",
   "pygments_lexer": "ipython3",
   "version": "3.12.3"
  }
 },
 "nbformat": 4,
 "nbformat_minor": 2
}
